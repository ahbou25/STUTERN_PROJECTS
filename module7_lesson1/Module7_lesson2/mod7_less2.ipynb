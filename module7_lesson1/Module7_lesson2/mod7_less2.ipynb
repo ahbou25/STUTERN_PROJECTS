{
 "cells": [
  {
   "cell_type": "code",
   "execution_count": 2,
   "metadata": {},
   "outputs": [
    {
     "name": "stdout",
     "output_type": "stream",
     "text": [
      "    x1     y1  x2    y2  x3     y3  x4     y4\n",
      "0   10   8.04  10  9.14  10   7.46   8   6.58\n",
      "1    8   6.95   8  8.14   8   6.77   8   5.76\n",
      "2   13   7.58  13  8.74  13  12.74   8   7.71\n",
      "3    9   8.81   9  8.77   9   7.11   8   8.84\n",
      "4   11   8.33  11  9.26  11   7.81   8   8.47\n",
      "5   14   9.96  14  8.10  14   8.84   8   7.04\n",
      "6    6   7.24   6  6.13   6   6.08   8   5.25\n",
      "7    4   4.26   4  3.10   4   5.39  19  12.50\n",
      "8   12  10.84  12  9.13  12   8.15   8   5.56\n",
      "9    7   4.82   7  7.26   7   6.42   8   7.91\n",
      "10   5   5.68   5  4.74   5   5.73   8   6.89\n"
     ]
    }
   ],
   "source": [
    "import matplotlib \n",
    "from matplotlib import pyplot as plt\n",
    "import pandas as pd\n",
    "df = pd.read_csv(\"anscombe_quartet_data.csv\")\n",
    "print(df)\n",
    "\n"
   ]
  },
  {
   "cell_type": "code",
   "execution_count": 2,
   "metadata": {},
   "outputs": [],
   "source": [
    "\n"
   ]
  },
  {
   "cell_type": "code",
   "execution_count": null,
   "metadata": {},
   "outputs": [],
   "source": []
  }
 ],
 "metadata": {
  "kernelspec": {
   "display_name": "Python 3.10.5 64-bit",
   "language": "python",
   "name": "python3"
  },
  "language_info": {
   "codemirror_mode": {
    "name": "ipython",
    "version": 3
   },
   "file_extension": ".py",
   "mimetype": "text/x-python",
   "name": "python",
   "nbconvert_exporter": "python",
   "pygments_lexer": "ipython3",
   "version": "3.10.5"
  },
  "orig_nbformat": 4,
  "vscode": {
   "interpreter": {
    "hash": "76d7c06053c3456e5600312cec90888656fc0ed30c03d8425b9dac6e4fc8e014"
   }
  }
 },
 "nbformat": 4,
 "nbformat_minor": 2
}
